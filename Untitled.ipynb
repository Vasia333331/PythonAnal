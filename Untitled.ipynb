{
 "cells": [
  {
   "cell_type": "code",
   "execution_count": 5,
   "metadata": {},
   "outputs": [
    {
     "name": "stdout",
     "output_type": "stream",
     "text": [
      "(0, 'С')\n",
      "(1, 'о')\n",
      "(2, 'к')\n",
      "(3, 'о')\n",
      "(4, 'л')\n",
      "(5, 'о')\n",
      "(6, 'в')\n",
      "(7, ' ')\n",
      "(8, 'В')\n",
      "(9, 'а')\n",
      "(10, 'с')\n",
      "(11, 'и')\n",
      "(12, 'л')\n",
      "(13, 'и')\n",
      "(14, 'й')\n",
      "(15, ' ')\n",
      "(16, 'Д')\n",
      "(17, 'м')\n",
      "(18, 'и')\n",
      "(19, 'т')\n",
      "(20, 'р')\n",
      "(21, 'и')\n",
      "(22, 'е')\n",
      "(23, 'в')\n",
      "(24, 'и')\n",
      "(25, 'ч')\n"
     ]
    }
   ],
   "source": [
    "name = \"Соколов Василий Дмитриевич\"\n",
    "for i in range(len(name)):\n",
    "        print((i, name[i]))"
   ]
  },
  {
   "cell_type": "code",
   "execution_count": 8,
   "metadata": {},
   "outputs": [
    {
     "name": "stdout",
     "output_type": "stream",
     "text": [
      "Введи сколько долларов10\n",
      "Евро - 8.55\n"
     ]
    }
   ],
   "source": [
    "dollar = int(input(\"Введи сколько долларов\"))\n",
    "kursDE = 1.17\n",
    "evro = dollar/kursDE\n",
    "print(f\"Евро - {round(evro,2)}\")"
   ]
  },
  {
   "cell_type": "code",
   "execution_count": null,
   "metadata": {},
   "outputs": [],
   "source": []
  }
 ],
 "metadata": {
  "kernelspec": {
   "display_name": "Python 3",
   "language": "python",
   "name": "python3"
  },
  "language_info": {
   "codemirror_mode": {
    "name": "ipython",
    "version": 3
   },
   "file_extension": ".py",
   "mimetype": "text/x-python",
   "name": "python",
   "nbconvert_exporter": "python",
   "pygments_lexer": "ipython3",
   "version": "3.8.5"
  }
 },
 "nbformat": 4,
 "nbformat_minor": 4
}
